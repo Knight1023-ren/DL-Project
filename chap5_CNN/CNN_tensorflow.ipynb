{
 "cells": [
  {
   "cell_type": "code",
   "execution_count": 1,
   "metadata": {},
   "outputs": [
    {
     "name": "stderr",
     "output_type": "stream",
     "text": [
      "D:\\Anaconda3\\envs\\DarkKnight\\Lib\\site-packages\\keras\\src\\layers\\convolutional\\base_conv.py:107: UserWarning: Do not pass an `input_shape`/`input_dim` argument to a layer. When using Sequential models, prefer using an `Input(shape)` object as the first layer in the model instead.\n",
      "  super().__init__(activity_regularizer=activity_regularizer, **kwargs)\n"
     ]
    },
    {
     "name": "stdout",
     "output_type": "stream",
     "text": [
      "Epoch: 0, Accuracy: 0.1630\n",
      "WARNING:tensorflow:5 out of the last 5 calls to <function TensorFlowTrainer.make_train_function.<locals>.one_step_on_iterator at 0x0000020268F0F7E0> triggered tf.function retracing. Tracing is expensive and the excessive number of tracings could be due to (1) creating @tf.function repeatedly in a loop, (2) passing tensors with different shapes, (3) passing Python objects instead of tensors. For (1), please define your @tf.function outside of the loop. For (2), @tf.function has reduce_retracing=True option that can avoid unnecessary retracing. For (3), please refer to https://www.tensorflow.org/guide/function#controlling_retracing and https://www.tensorflow.org/api_docs/python/tf/function for  more details.\n",
      "WARNING:tensorflow:6 out of the last 6 calls to <function TensorFlowTrainer.make_train_function.<locals>.one_step_on_iterator at 0x0000020268F0F7E0> triggered tf.function retracing. Tracing is expensive and the excessive number of tracings could be due to (1) creating @tf.function repeatedly in a loop, (2) passing tensors with different shapes, (3) passing Python objects instead of tensors. For (1), please define your @tf.function outside of the loop. For (2), @tf.function has reduce_retracing=True option that can avoid unnecessary retracing. For (3), please refer to https://www.tensorflow.org/guide/function#controlling_retracing and https://www.tensorflow.org/api_docs/python/tf/function for  more details.\n",
      "Epoch: 100, Accuracy: 0.8730\n",
      "Epoch: 200, Accuracy: 0.9170\n",
      "Epoch: 300, Accuracy: 0.9400\n",
      "Epoch: 400, Accuracy: 0.9510\n",
      "Epoch: 500, Accuracy: 0.9590\n",
      "Epoch: 600, Accuracy: 0.9650\n"
     ]
    }
   ],
   "source": [
    "#由于tensorflow2.x版本删除了tensorflow.examples模块，因此对下方读取数据集的模块进行修改。\n",
    "import tensorflow as tf\n",
    "import numpy as np\n",
    "\n",
    "# 加载MNIST数据集\n",
    "(x_train, y_train), (x_test, y_test) = tf.keras.datasets.mnist.load_data()\n",
    "\n",
    "# 数据预处理\n",
    "x_train = x_train.reshape(-1, 28, 28, 1).astype('float32') / 255.0\n",
    "x_test = x_test.reshape(-1, 28, 28, 1).astype('float32') / 255.0\n",
    "y_train = tf.keras.utils.to_categorical(y_train, 10)\n",
    "y_test = tf.keras.utils.to_categorical(y_test, 10)\n",
    "\n",
    "learning_rate = 1e-4\n",
    "keep_prob_rate = 0.7\n",
    "max_epoch = 700\n",
    "\n",
    "# 定义计算准确率的函数\n",
    "def compute_accuracy(model, x, y):\n",
    "    y_pre = model.predict(x, verbose=0)\n",
    "    correct_prediction = np.equal(np.argmax(y_pre, 1), np.argmax(y, 1))\n",
    "    accuracy = np.mean(correct_prediction.astype('float32'))\n",
    "    return accuracy\n",
    "\n",
    "# 定义模型\n",
    "def create_model():\n",
    "    model = tf.keras.Sequential([\n",
    "        tf.keras.layers.Conv2D(32, (7, 7), activation='relu', input_shape=(28, 28, 1), padding='same'),\n",
    "        tf.keras.layers.MaxPooling2D((2, 2), padding='same'),\n",
    "        tf.keras.layers.Conv2D(64, (5, 5), activation='relu', padding='same'),\n",
    "        tf.keras.layers.MaxPooling2D((2, 2), padding='same'),\n",
    "        tf.keras.layers.Flatten(),\n",
    "        tf.keras.layers.Dense(1024, activation='relu'),\n",
    "        tf.keras.layers.Dropout(1 - keep_prob_rate),\n",
    "        tf.keras.layers.Dense(10, activation='softmax')\n",
    "    ])\n",
    "    \n",
    "    model.compile(optimizer=tf.keras.optimizers.Adam(learning_rate=learning_rate),\n",
    "                  loss='categorical_crossentropy',\n",
    "                  metrics=['accuracy'])\n",
    "    return model\n",
    "\n",
    "# 创建并训练模型\n",
    "model = create_model()\n",
    "\n",
    "for i in range(max_epoch):\n",
    "    # 随机选择100个样本进行训练\n",
    "    indices = np.random.choice(len(x_train), 100, replace=False)\n",
    "    batch_xs = x_train[indices]\n",
    "    batch_ys = y_train[indices]\n",
    "    \n",
    "    model.train_on_batch(batch_xs, batch_ys)\n",
    "    \n",
    "    if i % 100 == 0:\n",
    "        acc = compute_accuracy(model, x_test[:1000], y_test[:1000])\n",
    "        print(f\"Epoch: {i}, Accuracy: {acc:.4f}\")"
   ]
  },
  {
   "cell_type": "code",
   "execution_count": null,
   "metadata": {},
   "outputs": [],
   "source": []
  }
 ],
 "metadata": {
  "anaconda-cloud": {},
  "kernelspec": {
   "display_name": "DarkKnight",
   "language": "python",
   "name": "darkknight"
  },
  "language_info": {
   "codemirror_mode": {
    "name": "ipython",
    "version": 3
   },
   "file_extension": ".py",
   "mimetype": "text/x-python",
   "name": "python",
   "nbconvert_exporter": "python",
   "pygments_lexer": "ipython3",
   "version": "3.12.3"
  }
 },
 "nbformat": 4,
 "nbformat_minor": 4
}
